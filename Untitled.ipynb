{
 "cells": [
  {
   "cell_type": "code",
   "execution_count": 1,
   "id": "6f96c5fb",
   "metadata": {},
   "outputs": [],
   "source": [
    "import nltk\n",
    "import re #used to keep regular expression"
   ]
  },
  {
   "cell_type": "code",
   "execution_count": 2,
   "id": "5a4fc395",
   "metadata": {},
   "outputs": [],
   "source": [
    "from nltk.corpus import stopwords"
   ]
  },
  {
   "cell_type": "code",
   "execution_count": 3,
   "id": "86bfb83d",
   "metadata": {},
   "outputs": [],
   "source": [
    "from nltk.stem import PorterStemmer\n",
    "from nltk.stem import WordNetLemmatizer"
   ]
  },
  {
   "cell_type": "code",
   "execution_count": 4,
   "id": "3eba1d2e",
   "metadata": {},
   "outputs": [],
   "source": [
    "lemmatizer=WordNetLemmatizer()"
   ]
  },
  {
   "cell_type": "code",
   "execution_count": 5,
   "id": "478426c0",
   "metadata": {},
   "outputs": [],
   "source": [
    "# Now lets take a sentence and lemmatize and remove puctuations and stop words"
   ]
  },
  {
   "cell_type": "code",
   "execution_count": 6,
   "id": "d3cc1bc4",
   "metadata": {},
   "outputs": [],
   "source": [
    "paragraph = '''Cricket is a very famous game. It can be played by men, women and children of all ages. It is an outdoor game which requires a bat, ball and stumps. It is usually played on a field by two teams and the team that scores more runs, wins the game. Umpires are also present to give a fair decision and stop arguments.\n",
    "\n",
    "Cricket is the national game of England. It is played in many other countries too. In India, children and adults enjoy playing and watching cricket on television. Playing cricket helps to keep us healthy and teaches us many important lessons.\n",
    "\n",
    "\n",
    "'''"
   ]
  },
  {
   "cell_type": "code",
   "execution_count": 7,
   "id": "9c13b78b",
   "metadata": {},
   "outputs": [],
   "source": [
    "# Lets first tokenize our paragraph into sentences"
   ]
  },
  {
   "cell_type": "code",
   "execution_count": 9,
   "id": "9d2d39a2",
   "metadata": {},
   "outputs": [],
   "source": [
    "def paragraph_processing(paragraph):\n",
    "    sentences = nltk.sent_tokenize(paragraph)\n",
    "    for i in range(len(sentences)):\n",
    "        words = nltk.word_tokenize(sentences[i])\n",
    "        words = [lemmatizer.lemmatize(word) for word in words if word not in set(stopwords.words('english'))]\n",
    "        words=[word.lower() for word in words]\n",
    "        sentences[i] = ' '.join(words)  \n",
    "    return sentences\n",
    "        "
   ]
  },
  {
   "cell_type": "code",
   "execution_count": 10,
   "id": "e7b34a2b",
   "metadata": {},
   "outputs": [
    {
     "data": {
      "text/plain": [
       "['cricket famous game .',\n",
       " 'it played men , woman child age .',\n",
       " 'it outdoor game requires bat , ball stump .',\n",
       " 'it usually played field two team team score run , win game .',\n",
       " 'umpires also present give fair decision stop argument .',\n",
       " 'cricket national game england .',\n",
       " 'it played many country .',\n",
       " 'in india , child adult enjoy playing watching cricket television .',\n",
       " 'playing cricket help keep u healthy teach u many important lesson .']"
      ]
     },
     "execution_count": 10,
     "metadata": {},
     "output_type": "execute_result"
    }
   ],
   "source": [
    "paragraph_processing(paragraph)"
   ]
  },
  {
   "cell_type": "code",
   "execution_count": null,
   "id": "94de87b2",
   "metadata": {},
   "outputs": [],
   "source": []
  }
 ],
 "metadata": {
  "kernelspec": {
   "display_name": "Python 3",
   "language": "python",
   "name": "python3"
  },
  "language_info": {
   "codemirror_mode": {
    "name": "ipython",
    "version": 3
   },
   "file_extension": ".py",
   "mimetype": "text/x-python",
   "name": "python",
   "nbconvert_exporter": "python",
   "pygments_lexer": "ipython3",
   "version": "3.6.8"
  }
 },
 "nbformat": 4,
 "nbformat_minor": 5
}
